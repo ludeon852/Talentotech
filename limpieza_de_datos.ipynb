{
  "nbformat": 4,
  "nbformat_minor": 0,
  "metadata": {
    "colab": {
      "provenance": [],
      "mount_file_id": "https://github.com/ludeon852/Talentotech/blob/main/limpieza%20de%20datos.ipynb",
      "authorship_tag": "ABX9TyNb3sUEAcm11PNfec6cEFyU",
      "include_colab_link": true
    },
    "kernelspec": {
      "name": "python3",
      "display_name": "Python 3"
    },
    "language_info": {
      "name": "python"
    }
  },
  "cells": [
    {
      "cell_type": "markdown",
      "metadata": {
        "id": "view-in-github",
        "colab_type": "text"
      },
      "source": [
        "<a href=\"https://colab.research.google.com/github/ludeon852/Talentotech/blob/main/limpieza_de_datos.ipynb\" target=\"_parent\"><img src=\"https://colab.research.google.com/assets/colab-badge.svg\" alt=\"Open In Colab\"/></a>"
      ]
    },
    {
      "cell_type": "markdown",
      "source": [
        "# 1. El problema del negocio\n",
        "\n",
        "Una entidad bancaria contrata a una empresa de marketing encargada de contactar telefónicamente a posibles clientes para determinar si están interesados o no en adquirir un certificado de depósito a término con el banco.\n",
        "\n",
        "¿Qué perfil tienen los clientes con mayor potencial de conversión?\n",
        "\n",
        "#2. El set de datos\n",
        "\n",
        "La información recolectada por la empresa de mercadeo se encuentra en un archivo CSV (`dataset_banco.csv`) con 45215 filas y 17 columnas.\n",
        "\n",
        "Cada registro contiene 16 características (las primeras 16 columnas) y una categoría (\"yes\" o \"no\" dependiendo de si la persona está o no interesada en adquirir el producto). Las columnas son:\n",
        "\n",
        "1. \"age\":  edad (numérica)\n",
        "2. \"job\": tipo de trabajo (categórica: \"admin.\", \"unknown\", \"unemployed\", \"management\", \"housemaid\", \"entrepreneur\", \"student\", \"blue-collar\",\"self-employed\", \"retired\", \"technician\", \"services\")\n",
        "3. \"marital\": estado civil (categórica: \"married\", \"divorced\", \"single\")\n",
        "4. \"education\": nivel educativo (categórica: \"unknown\", \"secondary\", \"primary\", \"tertiary\")\n",
        "5. \"default\": si dejó de pagar sus obligaciones (categórica: \"yes\", \"no\")\n",
        "6. \"balance\": saldo promedio anual en euros (numérica)\n",
        "7. \"housing\": ¿tiene o no crédito hipotecario? (categórica: \"yes\", \"no\")\n",
        "8. \"loan\": ¿tiene créditos de consumo? (categórica: \"yes\", \"no\")\n",
        "9. \"contact\": medio a través del cual fue contactado (categórica: \"unknown\", \"telephone\", \"cellular\")\n",
        "10. \"day\": último día del mes en el que fue contactada (numérica)\n",
        "11. \"month\": último mes en el que fue contactada (categórica: \"jan\", \"feb\", \"mar\", ..., \"nov\", \"dec\")\n",
        "12. \"duration\": duración (en segundos) del último contacto (numérica)\n",
        "13. \"campaign\": número total de veces que fue contactada durante la campaña (numérica)\n",
        "14. \"pdays\": número de días transcurridos después de haber sido contactado antes de la campaña actual (numérica. -1 indica que no fue contactado previamente)\n",
        "15. \"previous\": número de veces que ha sido contactada antes de esta campaña (numérica)\n",
        "16. \"poutcome\": resultado de la campaña de marketing anterior (categórica: \"unknown\", \"other\", \"failure\", \"success\")\n",
        "17. \"y\": categoría ¿el cliente se suscribió a un depósito a término? (categórica: \"yes\", \"no\")\n",
        "\n",
        "#4. Limpieza\n",
        "\n",
        "Realizaremos el proceso de limpieza teniendo en cuenta las situaciones más comunes:\n",
        "\n",
        "1. Datos faltantes en algunas celdas\n",
        "2. Columnas irrelevantes (que no responden al problema que queremos resolver)\n",
        "3. Registros (filas) repetidos\n",
        "4. Valores extremos (*outliers*) en el caso de las variables numéricas. Se deben analizar en detalle pues no necesariamente la solución es eliminarlos\n",
        "5. Errores tipográficos en el caso de las variables categóricas\n",
        "\n",
        "Al final de este proceso de limpieza deberíamos tener un set de datos **íntegro**, listo para la fase de Análisis Exploratorio.\n",
        "\n",
        "## 4.1 Datos faltantes\n",
        "\n",
        "Acá comenzamos a ver que los datos no están completos, pues no todas las columnas tienen la misma cantidad de registros.\n",
        "\n",
        "El número total de registros debería ser 45.215. Sin embargo columnas como \"job\", \"marital\", \"education\", \"balance\", \"duration\" y \"pdays\".\n",
        "\n",
        "Por ser tan pocos los datos  faltantes optaremos por eliminar las filas correspondientes:\n",
        "\n",
        "##4.2 Columnas irrelevantes\n",
        "\n",
        "Una columna irrelevante puede ser:\n",
        "\n",
        "- **Una columna que no contiene información relevante para el problema que queremos resolver**. Por ejemplo en este caso podría ser una columna que no guarde relación con el posible perfil del cliente (deporte favorito, hobbies, comida favorita, etc.)\n",
        "- **Una columna categórica pero con un sólo nivel**. Por ejemplo si en la columna \"job\" solo tuviésemos el nivel \"unknown\".\n",
        "- **Una columna numérica pero con un sólo valor**. Por ejemplo si en la columna \"edad\" todos los valores fuesen iguales a 50.\n",
        "- **Columnas con información redundante**. Por ejemplo si además de las columnas \"month\" y \"day\" tuviésemos la columna \"month-day\", resultado de combinar las dos anteriores.\n",
        "\n",
        "Si tenemos la duda de si alguna columna puede ser relevante o no lo mejor es dejarla (y más adelante en posteriores etapas podremos darnos cuenta de si se debe preservar o no).\n",
        "\n",
        "En este caso todas las columnas pueden resultar relevantes, pero debemos verificar que no haya columnas categóricas con un sólo nivel, o columnas numéricas con un sólo valor:\n",
        "\\"
      ],
      "metadata": {
        "id": "USPLs0YhtxjZ"
      }
    },
    {
      "cell_type": "code",
      "source": [
        "from google.colab import drive"
      ],
      "metadata": {
        "id": "jG-qoiMWOjDr"
      },
      "execution_count": 2,
      "outputs": []
    },
    {
      "cell_type": "code",
      "execution_count": 3,
      "metadata": {
        "id": "Vdw1uB-sayEA"
      },
      "outputs": [],
      "source": [
        "#sesion 14\n",
        "import pandas as pd\n",
        "import matplotlib.pyplot as plt\n",
        "import seaborn as sns"
      ]
    },
    {
      "cell_type": "code",
      "source": [
        "print(\"Lectura de archivo csv\")\n",
        "from google.colab import drive\n",
        "drive.mount('/content/drive')\n",
        "\n",
        "ruta =\"/content/drive/MyDrive/Colab Notebooks/dataset_banco.csv\"\n",
        "data = pd.read_csv(ruta)"
      ],
      "metadata": {
        "id": "3gWuiD07mMrv",
        "outputId": "2b169b7a-039b-4119-e7c6-a4eda502b5ea",
        "colab": {
          "base_uri": "https://localhost:8080/"
        }
      },
      "execution_count": 4,
      "outputs": [
        {
          "output_type": "stream",
          "name": "stdout",
          "text": [
            "Lectura de archivo csv\n",
            "Mounted at /content/drive\n"
          ]
        }
      ]
    },
    {
      "cell_type": "code",
      "source": [
        "print(data.shape)\n",
        "data.head()"
      ],
      "metadata": {
        "colab": {
          "base_uri": "https://localhost:8080/",
          "height": 224
        },
        "id": "_V8aBRwQPvv2",
        "outputId": "1270ce38-f129-4f73-eafc-83ff3f5061b0"
      },
      "execution_count": 5,
      "outputs": [
        {
          "output_type": "stream",
          "name": "stdout",
          "text": [
            "(45215, 17)\n"
          ]
        },
        {
          "output_type": "execute_result",
          "data": {
            "text/plain": [
              "   age           job  marital  education default  balance housing loan  \\\n",
              "0   58    management  married   tertiary      no   2143.0     yes   no   \n",
              "1   44    technician   single  secondary      no     29.0     yes   no   \n",
              "2   33  entrepreneur  married  secondary      no      2.0     yes  yes   \n",
              "3   47   blue-collar  married    unknown      no   1506.0     yes   no   \n",
              "4   33       unknown   single    unknown      no      1.0      no   no   \n",
              "\n",
              "   contact  day month  duration  campaign  pdays  previous poutcome   y  \n",
              "0  unknown    5   may     261.0         1   -1.0         0  unknown  no  \n",
              "1  unknown    5   may     151.0         1   -1.0         0  unknown  no  \n",
              "2  unknown    5   may      76.0         1   -1.0         0  unknown  no  \n",
              "3  unknown    5   may      92.0         1   -1.0         0  unknown  no  \n",
              "4  unknown    5   may     198.0         1   -1.0         0  unknown  no  "
            ],
            "text/html": [
              "\n",
              "  <div id=\"df-d049c03f-600c-4eab-af62-aaf27527aeb4\" class=\"colab-df-container\">\n",
              "    <div>\n",
              "<style scoped>\n",
              "    .dataframe tbody tr th:only-of-type {\n",
              "        vertical-align: middle;\n",
              "    }\n",
              "\n",
              "    .dataframe tbody tr th {\n",
              "        vertical-align: top;\n",
              "    }\n",
              "\n",
              "    .dataframe thead th {\n",
              "        text-align: right;\n",
              "    }\n",
              "</style>\n",
              "<table border=\"1\" class=\"dataframe\">\n",
              "  <thead>\n",
              "    <tr style=\"text-align: right;\">\n",
              "      <th></th>\n",
              "      <th>age</th>\n",
              "      <th>job</th>\n",
              "      <th>marital</th>\n",
              "      <th>education</th>\n",
              "      <th>default</th>\n",
              "      <th>balance</th>\n",
              "      <th>housing</th>\n",
              "      <th>loan</th>\n",
              "      <th>contact</th>\n",
              "      <th>day</th>\n",
              "      <th>month</th>\n",
              "      <th>duration</th>\n",
              "      <th>campaign</th>\n",
              "      <th>pdays</th>\n",
              "      <th>previous</th>\n",
              "      <th>poutcome</th>\n",
              "      <th>y</th>\n",
              "    </tr>\n",
              "  </thead>\n",
              "  <tbody>\n",
              "    <tr>\n",
              "      <th>0</th>\n",
              "      <td>58</td>\n",
              "      <td>management</td>\n",
              "      <td>married</td>\n",
              "      <td>tertiary</td>\n",
              "      <td>no</td>\n",
              "      <td>2143.0</td>\n",
              "      <td>yes</td>\n",
              "      <td>no</td>\n",
              "      <td>unknown</td>\n",
              "      <td>5</td>\n",
              "      <td>may</td>\n",
              "      <td>261.0</td>\n",
              "      <td>1</td>\n",
              "      <td>-1.0</td>\n",
              "      <td>0</td>\n",
              "      <td>unknown</td>\n",
              "      <td>no</td>\n",
              "    </tr>\n",
              "    <tr>\n",
              "      <th>1</th>\n",
              "      <td>44</td>\n",
              "      <td>technician</td>\n",
              "      <td>single</td>\n",
              "      <td>secondary</td>\n",
              "      <td>no</td>\n",
              "      <td>29.0</td>\n",
              "      <td>yes</td>\n",
              "      <td>no</td>\n",
              "      <td>unknown</td>\n",
              "      <td>5</td>\n",
              "      <td>may</td>\n",
              "      <td>151.0</td>\n",
              "      <td>1</td>\n",
              "      <td>-1.0</td>\n",
              "      <td>0</td>\n",
              "      <td>unknown</td>\n",
              "      <td>no</td>\n",
              "    </tr>\n",
              "    <tr>\n",
              "      <th>2</th>\n",
              "      <td>33</td>\n",
              "      <td>entrepreneur</td>\n",
              "      <td>married</td>\n",
              "      <td>secondary</td>\n",
              "      <td>no</td>\n",
              "      <td>2.0</td>\n",
              "      <td>yes</td>\n",
              "      <td>yes</td>\n",
              "      <td>unknown</td>\n",
              "      <td>5</td>\n",
              "      <td>may</td>\n",
              "      <td>76.0</td>\n",
              "      <td>1</td>\n",
              "      <td>-1.0</td>\n",
              "      <td>0</td>\n",
              "      <td>unknown</td>\n",
              "      <td>no</td>\n",
              "    </tr>\n",
              "    <tr>\n",
              "      <th>3</th>\n",
              "      <td>47</td>\n",
              "      <td>blue-collar</td>\n",
              "      <td>married</td>\n",
              "      <td>unknown</td>\n",
              "      <td>no</td>\n",
              "      <td>1506.0</td>\n",
              "      <td>yes</td>\n",
              "      <td>no</td>\n",
              "      <td>unknown</td>\n",
              "      <td>5</td>\n",
              "      <td>may</td>\n",
              "      <td>92.0</td>\n",
              "      <td>1</td>\n",
              "      <td>-1.0</td>\n",
              "      <td>0</td>\n",
              "      <td>unknown</td>\n",
              "      <td>no</td>\n",
              "    </tr>\n",
              "    <tr>\n",
              "      <th>4</th>\n",
              "      <td>33</td>\n",
              "      <td>unknown</td>\n",
              "      <td>single</td>\n",
              "      <td>unknown</td>\n",
              "      <td>no</td>\n",
              "      <td>1.0</td>\n",
              "      <td>no</td>\n",
              "      <td>no</td>\n",
              "      <td>unknown</td>\n",
              "      <td>5</td>\n",
              "      <td>may</td>\n",
              "      <td>198.0</td>\n",
              "      <td>1</td>\n",
              "      <td>-1.0</td>\n",
              "      <td>0</td>\n",
              "      <td>unknown</td>\n",
              "      <td>no</td>\n",
              "    </tr>\n",
              "  </tbody>\n",
              "</table>\n",
              "</div>\n",
              "    <div class=\"colab-df-buttons\">\n",
              "\n",
              "  <div class=\"colab-df-container\">\n",
              "    <button class=\"colab-df-convert\" onclick=\"convertToInteractive('df-d049c03f-600c-4eab-af62-aaf27527aeb4')\"\n",
              "            title=\"Convert this dataframe to an interactive table.\"\n",
              "            style=\"display:none;\">\n",
              "\n",
              "  <svg xmlns=\"http://www.w3.org/2000/svg\" height=\"24px\" viewBox=\"0 -960 960 960\">\n",
              "    <path d=\"M120-120v-720h720v720H120Zm60-500h600v-160H180v160Zm220 220h160v-160H400v160Zm0 220h160v-160H400v160ZM180-400h160v-160H180v160Zm440 0h160v-160H620v160ZM180-180h160v-160H180v160Zm440 0h160v-160H620v160Z\"/>\n",
              "  </svg>\n",
              "    </button>\n",
              "\n",
              "  <style>\n",
              "    .colab-df-container {\n",
              "      display:flex;\n",
              "      gap: 12px;\n",
              "    }\n",
              "\n",
              "    .colab-df-convert {\n",
              "      background-color: #E8F0FE;\n",
              "      border: none;\n",
              "      border-radius: 50%;\n",
              "      cursor: pointer;\n",
              "      display: none;\n",
              "      fill: #1967D2;\n",
              "      height: 32px;\n",
              "      padding: 0 0 0 0;\n",
              "      width: 32px;\n",
              "    }\n",
              "\n",
              "    .colab-df-convert:hover {\n",
              "      background-color: #E2EBFA;\n",
              "      box-shadow: 0px 1px 2px rgba(60, 64, 67, 0.3), 0px 1px 3px 1px rgba(60, 64, 67, 0.15);\n",
              "      fill: #174EA6;\n",
              "    }\n",
              "\n",
              "    .colab-df-buttons div {\n",
              "      margin-bottom: 4px;\n",
              "    }\n",
              "\n",
              "    [theme=dark] .colab-df-convert {\n",
              "      background-color: #3B4455;\n",
              "      fill: #D2E3FC;\n",
              "    }\n",
              "\n",
              "    [theme=dark] .colab-df-convert:hover {\n",
              "      background-color: #434B5C;\n",
              "      box-shadow: 0px 1px 3px 1px rgba(0, 0, 0, 0.15);\n",
              "      filter: drop-shadow(0px 1px 2px rgba(0, 0, 0, 0.3));\n",
              "      fill: #FFFFFF;\n",
              "    }\n",
              "  </style>\n",
              "\n",
              "    <script>\n",
              "      const buttonEl =\n",
              "        document.querySelector('#df-d049c03f-600c-4eab-af62-aaf27527aeb4 button.colab-df-convert');\n",
              "      buttonEl.style.display =\n",
              "        google.colab.kernel.accessAllowed ? 'block' : 'none';\n",
              "\n",
              "      async function convertToInteractive(key) {\n",
              "        const element = document.querySelector('#df-d049c03f-600c-4eab-af62-aaf27527aeb4');\n",
              "        const dataTable =\n",
              "          await google.colab.kernel.invokeFunction('convertToInteractive',\n",
              "                                                    [key], {});\n",
              "        if (!dataTable) return;\n",
              "\n",
              "        const docLinkHtml = 'Like what you see? Visit the ' +\n",
              "          '<a target=\"_blank\" href=https://colab.research.google.com/notebooks/data_table.ipynb>data table notebook</a>'\n",
              "          + ' to learn more about interactive tables.';\n",
              "        element.innerHTML = '';\n",
              "        dataTable['output_type'] = 'display_data';\n",
              "        await google.colab.output.renderOutput(dataTable, element);\n",
              "        const docLink = document.createElement('div');\n",
              "        docLink.innerHTML = docLinkHtml;\n",
              "        element.appendChild(docLink);\n",
              "      }\n",
              "    </script>\n",
              "  </div>\n",
              "\n",
              "\n",
              "<div id=\"df-feed709d-6a6b-47ec-8ed2-130447ea2a86\">\n",
              "  <button class=\"colab-df-quickchart\" onclick=\"quickchart('df-feed709d-6a6b-47ec-8ed2-130447ea2a86')\"\n",
              "            title=\"Suggest charts\"\n",
              "            style=\"display:none;\">\n",
              "\n",
              "<svg xmlns=\"http://www.w3.org/2000/svg\" height=\"24px\"viewBox=\"0 0 24 24\"\n",
              "     width=\"24px\">\n",
              "    <g>\n",
              "        <path d=\"M19 3H5c-1.1 0-2 .9-2 2v14c0 1.1.9 2 2 2h14c1.1 0 2-.9 2-2V5c0-1.1-.9-2-2-2zM9 17H7v-7h2v7zm4 0h-2V7h2v10zm4 0h-2v-4h2v4z\"/>\n",
              "    </g>\n",
              "</svg>\n",
              "  </button>\n",
              "\n",
              "<style>\n",
              "  .colab-df-quickchart {\n",
              "      --bg-color: #E8F0FE;\n",
              "      --fill-color: #1967D2;\n",
              "      --hover-bg-color: #E2EBFA;\n",
              "      --hover-fill-color: #174EA6;\n",
              "      --disabled-fill-color: #AAA;\n",
              "      --disabled-bg-color: #DDD;\n",
              "  }\n",
              "\n",
              "  [theme=dark] .colab-df-quickchart {\n",
              "      --bg-color: #3B4455;\n",
              "      --fill-color: #D2E3FC;\n",
              "      --hover-bg-color: #434B5C;\n",
              "      --hover-fill-color: #FFFFFF;\n",
              "      --disabled-bg-color: #3B4455;\n",
              "      --disabled-fill-color: #666;\n",
              "  }\n",
              "\n",
              "  .colab-df-quickchart {\n",
              "    background-color: var(--bg-color);\n",
              "    border: none;\n",
              "    border-radius: 50%;\n",
              "    cursor: pointer;\n",
              "    display: none;\n",
              "    fill: var(--fill-color);\n",
              "    height: 32px;\n",
              "    padding: 0;\n",
              "    width: 32px;\n",
              "  }\n",
              "\n",
              "  .colab-df-quickchart:hover {\n",
              "    background-color: var(--hover-bg-color);\n",
              "    box-shadow: 0 1px 2px rgba(60, 64, 67, 0.3), 0 1px 3px 1px rgba(60, 64, 67, 0.15);\n",
              "    fill: var(--button-hover-fill-color);\n",
              "  }\n",
              "\n",
              "  .colab-df-quickchart-complete:disabled,\n",
              "  .colab-df-quickchart-complete:disabled:hover {\n",
              "    background-color: var(--disabled-bg-color);\n",
              "    fill: var(--disabled-fill-color);\n",
              "    box-shadow: none;\n",
              "  }\n",
              "\n",
              "  .colab-df-spinner {\n",
              "    border: 2px solid var(--fill-color);\n",
              "    border-color: transparent;\n",
              "    border-bottom-color: var(--fill-color);\n",
              "    animation:\n",
              "      spin 1s steps(1) infinite;\n",
              "  }\n",
              "\n",
              "  @keyframes spin {\n",
              "    0% {\n",
              "      border-color: transparent;\n",
              "      border-bottom-color: var(--fill-color);\n",
              "      border-left-color: var(--fill-color);\n",
              "    }\n",
              "    20% {\n",
              "      border-color: transparent;\n",
              "      border-left-color: var(--fill-color);\n",
              "      border-top-color: var(--fill-color);\n",
              "    }\n",
              "    30% {\n",
              "      border-color: transparent;\n",
              "      border-left-color: var(--fill-color);\n",
              "      border-top-color: var(--fill-color);\n",
              "      border-right-color: var(--fill-color);\n",
              "    }\n",
              "    40% {\n",
              "      border-color: transparent;\n",
              "      border-right-color: var(--fill-color);\n",
              "      border-top-color: var(--fill-color);\n",
              "    }\n",
              "    60% {\n",
              "      border-color: transparent;\n",
              "      border-right-color: var(--fill-color);\n",
              "    }\n",
              "    80% {\n",
              "      border-color: transparent;\n",
              "      border-right-color: var(--fill-color);\n",
              "      border-bottom-color: var(--fill-color);\n",
              "    }\n",
              "    90% {\n",
              "      border-color: transparent;\n",
              "      border-bottom-color: var(--fill-color);\n",
              "    }\n",
              "  }\n",
              "</style>\n",
              "\n",
              "  <script>\n",
              "    async function quickchart(key) {\n",
              "      const quickchartButtonEl =\n",
              "        document.querySelector('#' + key + ' button');\n",
              "      quickchartButtonEl.disabled = true;  // To prevent multiple clicks.\n",
              "      quickchartButtonEl.classList.add('colab-df-spinner');\n",
              "      try {\n",
              "        const charts = await google.colab.kernel.invokeFunction(\n",
              "            'suggestCharts', [key], {});\n",
              "      } catch (error) {\n",
              "        console.error('Error during call to suggestCharts:', error);\n",
              "      }\n",
              "      quickchartButtonEl.classList.remove('colab-df-spinner');\n",
              "      quickchartButtonEl.classList.add('colab-df-quickchart-complete');\n",
              "    }\n",
              "    (() => {\n",
              "      let quickchartButtonEl =\n",
              "        document.querySelector('#df-feed709d-6a6b-47ec-8ed2-130447ea2a86 button');\n",
              "      quickchartButtonEl.style.display =\n",
              "        google.colab.kernel.accessAllowed ? 'block' : 'none';\n",
              "    })();\n",
              "  </script>\n",
              "</div>\n",
              "\n",
              "    </div>\n",
              "  </div>\n"
            ],
            "application/vnd.google.colaboratory.intrinsic+json": {
              "type": "dataframe",
              "variable_name": "data",
              "summary": "{\n  \"name\": \"data\",\n  \"rows\": 45215,\n  \"fields\": [\n    {\n      \"column\": \"age\",\n      \"properties\": {\n        \"dtype\": \"number\",\n        \"std\": 12,\n        \"min\": 18,\n        \"max\": 776,\n        \"samples\": [\n          89,\n          58,\n          74\n        ],\n        \"num_unique_values\": 85,\n        \"semantic_type\": \"\",\n        \"description\": \"\"\n      }\n    },\n    {\n      \"column\": \"job\",\n      \"properties\": {\n        \"dtype\": \"category\",\n        \"samples\": [\n          \"management\",\n          \"technician\",\n          \"services\"\n        ],\n        \"num_unique_values\": 18,\n        \"semantic_type\": \"\",\n        \"description\": \"\"\n      }\n    },\n    {\n      \"column\": \"marital\",\n      \"properties\": {\n        \"dtype\": \"category\",\n        \"samples\": [\n          \"married\",\n          \"single\",\n          \"Single\"\n        ],\n        \"num_unique_values\": 6,\n        \"semantic_type\": \"\",\n        \"description\": \"\"\n      }\n    },\n    {\n      \"column\": \"education\",\n      \"properties\": {\n        \"dtype\": \"category\",\n        \"samples\": [\n          \"Tertiary\",\n          \"secondary\",\n          \"Secondary\"\n        ],\n        \"num_unique_values\": 10,\n        \"semantic_type\": \"\",\n        \"description\": \"\"\n      }\n    },\n    {\n      \"column\": \"default\",\n      \"properties\": {\n        \"dtype\": \"category\",\n        \"samples\": [\n          \"yes\",\n          \"no\"\n        ],\n        \"num_unique_values\": 2,\n        \"semantic_type\": \"\",\n        \"description\": \"\"\n      }\n    },\n    {\n      \"column\": \"balance\",\n      \"properties\": {\n        \"dtype\": \"number\",\n        \"std\": 3924.255524653657,\n        \"min\": -8019.0,\n        \"max\": 527532.0,\n        \"samples\": [\n          3276.0,\n          43.0\n        ],\n        \"num_unique_values\": 7168,\n        \"semantic_type\": \"\",\n        \"description\": \"\"\n      }\n    },\n    {\n      \"column\": \"housing\",\n      \"properties\": {\n        \"dtype\": \"category\",\n        \"samples\": [\n          \"no\",\n          \"yes\"\n        ],\n        \"num_unique_values\": 2,\n        \"semantic_type\": \"\",\n        \"description\": \"\"\n      }\n    },\n    {\n      \"column\": \"loan\",\n      \"properties\": {\n        \"dtype\": \"category\",\n        \"samples\": [\n          \"no\",\n          \"yes\"\n        ],\n        \"num_unique_values\": 6,\n        \"semantic_type\": \"\",\n        \"description\": \"\"\n      }\n    },\n    {\n      \"column\": \"contact\",\n      \"properties\": {\n        \"dtype\": \"category\",\n        \"samples\": [\n          \"cellular\",\n          \"mobile\"\n        ],\n        \"num_unique_values\": 5,\n        \"semantic_type\": \"\",\n        \"description\": \"\"\n      }\n    },\n    {\n      \"column\": \"day\",\n      \"properties\": {\n        \"dtype\": \"number\",\n        \"std\": 8,\n        \"min\": 1,\n        \"max\": 31,\n        \"samples\": [\n          1,\n          27\n        ],\n        \"num_unique_values\": 31,\n        \"semantic_type\": \"\",\n        \"description\": \"\"\n      }\n    },\n    {\n      \"column\": \"month\",\n      \"properties\": {\n        \"dtype\": \"category\",\n        \"samples\": [\n          \"apr\",\n          \"mar\"\n        ],\n        \"num_unique_values\": 12,\n        \"semantic_type\": \"\",\n        \"description\": \"\"\n      }\n    },\n    {\n      \"column\": \"duration\",\n      \"properties\": {\n        \"dtype\": \"number\",\n        \"std\": 257.6051746062185,\n        \"min\": -1389.0,\n        \"max\": 4918.0,\n        \"samples\": [\n          1342.0,\n          4.0\n        ],\n        \"num_unique_values\": 1575,\n        \"semantic_type\": \"\",\n        \"description\": \"\"\n      }\n    },\n    {\n      \"column\": \"campaign\",\n      \"properties\": {\n        \"dtype\": \"number\",\n        \"std\": 3,\n        \"min\": 1,\n        \"max\": 63,\n        \"samples\": [\n          41,\n          27\n        ],\n        \"num_unique_values\": 48,\n        \"semantic_type\": \"\",\n        \"description\": \"\"\n      }\n    },\n    {\n      \"column\": \"pdays\",\n      \"properties\": {\n        \"dtype\": \"number\",\n        \"std\": 100.12062172110123,\n        \"min\": -1.0,\n        \"max\": 871.0,\n        \"samples\": [\n          249.0,\n          551.0\n        ],\n        \"num_unique_values\": 559,\n        \"semantic_type\": \"\",\n        \"description\": \"\"\n      }\n    },\n    {\n      \"column\": \"previous\",\n      \"properties\": {\n        \"dtype\": \"number\",\n        \"std\": 2,\n        \"min\": 0,\n        \"max\": 275,\n        \"samples\": [\n          17,\n          9\n        ],\n        \"num_unique_values\": 41,\n        \"semantic_type\": \"\",\n        \"description\": \"\"\n      }\n    },\n    {\n      \"column\": \"poutcome\",\n      \"properties\": {\n        \"dtype\": \"category\",\n        \"samples\": [\n          \"unknown\",\n          \"UNK\"\n        ],\n        \"num_unique_values\": 6,\n        \"semantic_type\": \"\",\n        \"description\": \"\"\n      }\n    },\n    {\n      \"column\": \"y\",\n      \"properties\": {\n        \"dtype\": \"category\",\n        \"samples\": [\n          \"yes\",\n          \"no\"\n        ],\n        \"num_unique_values\": 2,\n        \"semantic_type\": \"\",\n        \"description\": \"\"\n      }\n    }\n  ]\n}"
            }
          },
          "metadata": {},
          "execution_count": 5
        }
      ]
    },
    {
      "cell_type": "code",
      "source": [
        "#visualizar las variables categoricas y numericas\n",
        "print(\"Variables categoricas y numercias\")\n",
        "data.info()\n"
      ],
      "metadata": {
        "colab": {
          "base_uri": "https://localhost:8080/"
        },
        "id": "ar_jnaMIQ3Ih",
        "outputId": "08fca72b-3a5d-48c6-c042-8b7ba377e279"
      },
      "execution_count": 6,
      "outputs": [
        {
          "output_type": "stream",
          "name": "stdout",
          "text": [
            "Variables categoricas y numercias\n",
            "<class 'pandas.core.frame.DataFrame'>\n",
            "RangeIndex: 45215 entries, 0 to 45214\n",
            "Data columns (total 17 columns):\n",
            " #   Column     Non-Null Count  Dtype  \n",
            "---  ------     --------------  -----  \n",
            " 0   age        45215 non-null  int64  \n",
            " 1   job        45213 non-null  object \n",
            " 2   marital    45214 non-null  object \n",
            " 3   education  45214 non-null  object \n",
            " 4   default    45215 non-null  object \n",
            " 5   balance    45213 non-null  float64\n",
            " 6   housing    45215 non-null  object \n",
            " 7   loan       45215 non-null  object \n",
            " 8   contact    45215 non-null  object \n",
            " 9   day        45215 non-null  int64  \n",
            " 10  month      45215 non-null  object \n",
            " 11  duration   45214 non-null  float64\n",
            " 12  campaign   45215 non-null  int64  \n",
            " 13  pdays      45214 non-null  float64\n",
            " 14  previous   45215 non-null  int64  \n",
            " 15  poutcome   45215 non-null  object \n",
            " 16  y          45215 non-null  object \n",
            "dtypes: float64(3), int64(4), object(10)\n",
            "memory usage: 5.9+ MB\n"
          ]
        }
      ]
    },
    {
      "cell_type": "code",
      "source": [
        "#Se eliminan los datos faltantes, al ser tan pocos los datos non-null se aplica inplace=true\n",
        "data.dropna(inplace=True)\n",
        "data.info()"
      ],
      "metadata": {
        "colab": {
          "base_uri": "https://localhost:8080/"
        },
        "id": "-_tWNuxmTa15",
        "outputId": "c0a775bb-e077-4596-bf83-e2e192acc5f1"
      },
      "execution_count": 7,
      "outputs": [
        {
          "output_type": "stream",
          "name": "stdout",
          "text": [
            "<class 'pandas.core.frame.DataFrame'>\n",
            "Int64Index: 45207 entries, 0 to 45214\n",
            "Data columns (total 17 columns):\n",
            " #   Column     Non-Null Count  Dtype  \n",
            "---  ------     --------------  -----  \n",
            " 0   age        45207 non-null  int64  \n",
            " 1   job        45207 non-null  object \n",
            " 2   marital    45207 non-null  object \n",
            " 3   education  45207 non-null  object \n",
            " 4   default    45207 non-null  object \n",
            " 5   balance    45207 non-null  float64\n",
            " 6   housing    45207 non-null  object \n",
            " 7   loan       45207 non-null  object \n",
            " 8   contact    45207 non-null  object \n",
            " 9   day        45207 non-null  int64  \n",
            " 10  month      45207 non-null  object \n",
            " 11  duration   45207 non-null  float64\n",
            " 12  campaign   45207 non-null  int64  \n",
            " 13  pdays      45207 non-null  float64\n",
            " 14  previous   45207 non-null  int64  \n",
            " 15  poutcome   45207 non-null  object \n",
            " 16  y          45207 non-null  object \n",
            "dtypes: float64(3), int64(4), object(10)\n",
            "memory usage: 6.2+ MB\n"
          ]
        }
      ]
    },
    {
      "cell_type": "markdown",
      "source": [
        "Notas acerca de ciclo FOR\n",
        "\n",
        "for col in cols_cat:: Este es un bucle for que itera sobre cada elemento en la lista cols_cat. La variable col tomará el valor de cada elemento en cada iteración del bucle.\n",
        "\n",
        "print(f'Columna {col}: {data[col].nunique()} subniveles'): Dentro del bucle, esta línea de código imprime un mensaje que indica el nombre de la columna (col), seguido por el número de subniveles únicos en esa columna.\n",
        "\n",
        "f'Columna {col}: {data[col].nunique()} subniveles': Esta es una cadena de formato (f-string) que contiene dos variables:\n",
        "{col}: Representa el nombre de la columna actual en la iteración del bucle.\n",
        "{data[col].nunique()}: Representa el número de subniveles únicos en la columna actual. data[col] selecciona la columna actual del DataFrame y .nunique() calcula el número de valores únicos en esa columna.\n",
        "\\"
      ],
      "metadata": {
        "id": "h99J4GWkrKy4"
      }
    },
    {
      "cell_type": "code",
      "source": [
        "#Conteo de los niveles en las diferentes columnas categoricas (col:representa el nombre de la columna actual, data col nunique: numero de sub niveles\n",
        "#de la columna actual, data col selecciona la columna actual del dataframe y nunique calcula el numero de valores unicos en esa columna )\n",
        "cols_cat = ['job','marital','education','default','housing','loan','contact','month','poutcome','y']\n",
        "for col in cols_cat:\n",
        "    print(f'Columna{col}:{data[col].nunique()} subniveles')# para contar filas repetidas"
      ],
      "metadata": {
        "colab": {
          "base_uri": "https://localhost:8080/"
        },
        "id": "4asUVslqVZ_8",
        "outputId": "b3a9a9ab-a183-4ce8-c4af-504d89107869"
      },
      "execution_count": 8,
      "outputs": [
        {
          "output_type": "stream",
          "name": "stdout",
          "text": [
            "Columnajob:18 subniveles\n",
            "Columnamarital:6 subniveles\n",
            "Columnaeducation:10 subniveles\n",
            "Columnadefault:2 subniveles\n",
            "Columnahousing:2 subniveles\n",
            "Columnaloan:6 subniveles\n",
            "Columnacontact:5 subniveles\n",
            "Columnamonth:12 subniveles\n",
            "Columnapoutcome:6 subniveles\n",
            "Columnay:2 subniveles\n"
          ]
        }
      ]
    },
    {
      "cell_type": "code",
      "source": [
        "#Filas repetidas\n",
        "print(f'Tamaño del set antes de eliminar las filas repetidas:{data.shape}')#elmina las filas repetidas y muestra un antes y un despues\n",
        "data.drop_duplicates(inplace=True)\n",
        "print(f'Tamaño del set despues de eliminar las filas repetidas:{data.shape}')\n"
      ],
      "metadata": {
        "colab": {
          "base_uri": "https://localhost:8080/"
        },
        "id": "3s10bgZbA4Ew",
        "outputId": "1988fb8d-135a-4602-e4d2-7d9a2ee1fa38"
      },
      "execution_count": 17,
      "outputs": [
        {
          "output_type": "stream",
          "name": "stdout",
          "text": [
            "Tamaño del set antes de eliminar las filas repetidas:(45215, 17)\n",
            "Tamaño del set despues de eliminar las filas repetidas:(45211, 17)\n"
          ]
        }
      ]
    },
    {
      "cell_type": "code",
      "source": [
        "#Calcula la media del atributo \"pdays: dias de contacto al usuario antes de la campaña actual\"\n",
        "media = data['pdays'].mean()\n",
        "print(\"Promedio de dias de contacto\", media)"
      ],
      "metadata": {
        "colab": {
          "base_uri": "https://localhost:8080/"
        },
        "id": "t19-EInYzrsw",
        "outputId": "e399864c-2433-4782-ecc6-da6ea7a85167"
      },
      "execution_count": 7,
      "outputs": [
        {
          "output_type": "stream",
          "name": "stdout",
          "text": [
            "Promedio de dias de contacto 40.19248462865484\n"
          ]
        }
      ]
    },
    {
      "cell_type": "code",
      "source": [
        "#Graficar un histograma del atributo \"campaña\"\n",
        "plt.hist(data['pdays'], bins=20, color='green', edgecolor='black',alpha=0.7)\n",
        "#Agregar una linea vertical para mostrar la media\n",
        "plt.axvline(media, color='red',linestyle='dashed',linewidth=1)\n",
        "#Etiquietas y titulo\n",
        "plt.xlabel('Valor de la pdays')\n",
        "plt.ylabel('Frecuencia')\n",
        "plt.title('Histograma de la pdays con media')\n",
        "plt.show()#muestra la grafia\n"
      ],
      "metadata": {
        "colab": {
          "base_uri": "https://localhost:8080/",
          "height": 472
        },
        "id": "UixMhYPH21rs",
        "outputId": "f2357f5a-4b11-4d78-a9cd-8df2827add10"
      },
      "execution_count": 12,
      "outputs": [
        {
          "output_type": "display_data",
          "data": {
            "text/plain": [
              "<Figure size 640x480 with 1 Axes>"
            ],
            "image/png": "[encoded data removed]"
          },
          "metadata": {}
        }
      ]
    },
    {
      "cell_type": "code",
      "source": [
        "#Calcual la desviacion estandar del atributo pdays\n",
        "desviacion_estandar = data['pdays'].std()\n",
        "print(\"desviacion_estandar de la pdays\",desviacion_estandar)"
      ],
      "metadata": {
        "colab": {
          "base_uri": "https://localhost:8080/"
        },
        "id": "T7vMC0aW4FE-",
        "outputId": "eac9d7eb-44da-43cf-d95f-ea4e21e9490a"
      },
      "execution_count": 23,
      "outputs": [
        {
          "output_type": "stream",
          "name": "stdout",
          "text": [
            "desviacion_estandar de la pdays 100.12210785511405\n"
          ]
        }
      ]
    },
    {
      "cell_type": "code",
      "source": [
        "#Generar graficas individuales para las variables numericas\n",
        "# al estar en rangos diferentes\n",
        "\n",
        "cols_num = ['age', 'balance' ,'day' ,'duration' ,'campaign' ,'pdays' ,'previous']\n",
        "fig, ax = plt.subplots(nrows=7, ncols=1, figsize=(8,30))\n",
        "fig.subplots_adjust(hspace=0.5)\n",
        "\n",
        "for i, col in enumerate(cols_num):\n",
        "    sns.boxplot(x=col, data=data, ax=ax[i])\n",
        "    ax[i].set_title(col)"
      ],
      "metadata": {
        "colab": {
          "base_uri": "https://localhost:8080/",
          "height": 1000
        },
        "id": "pdaD9PyRD9tT",
        "outputId": "51a0afa1-bb27-4eee-f98b-7a2bbde6351f"
      },
      "execution_count": 24,
      "outputs": [
        {
          "output_type": "display_data",
          "data": {
            "text/plain": [
              "<Figure size 800x3000 with 7 Axes>"
            ],
            "image/png": "[encoded data removed]"
          },
          "metadata": {}
        }
      ]
    }
  ]
}